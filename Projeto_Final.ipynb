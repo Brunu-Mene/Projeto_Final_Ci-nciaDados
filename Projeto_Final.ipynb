{
 "cells": [
  {
   "attachments": {},
   "cell_type": "markdown",
   "metadata": {},
   "source": [
    "## Importando bibliotecas"
   ]
  },
  {
   "cell_type": "code",
   "execution_count": 1,
   "metadata": {},
   "outputs": [
    {
     "name": "stderr",
     "output_type": "stream",
     "text": [
      "2023-01-29 10:55:46.490092: I tensorflow/core/platform/cpu_feature_guard.cc:193] This TensorFlow binary is optimized with oneAPI Deep Neural Network Library (oneDNN) to use the following CPU instructions in performance-critical operations:  AVX2 AVX512F AVX512_VNNI FMA\n",
      "To enable them in other operations, rebuild TensorFlow with the appropriate compiler flags.\n",
      "2023-01-29 10:55:46.780710: I tensorflow/core/util/port.cc:104] oneDNN custom operations are on. You may see slightly different numerical results due to floating-point round-off errors from different computation orders. To turn them off, set the environment variable `TF_ENABLE_ONEDNN_OPTS=0`.\n",
      "2023-01-29 10:55:46.806857: W tensorflow/compiler/xla/stream_executor/platform/default/dso_loader.cc:64] Could not load dynamic library 'libcudart.so.11.0'; dlerror: libcudart.so.11.0: cannot open shared object file: No such file or directory\n",
      "2023-01-29 10:55:46.806880: I tensorflow/compiler/xla/stream_executor/cuda/cudart_stub.cc:29] Ignore above cudart dlerror if you do not have a GPU set up on your machine.\n",
      "2023-01-29 10:55:47.836727: W tensorflow/compiler/xla/stream_executor/platform/default/dso_loader.cc:64] Could not load dynamic library 'libnvinfer.so.7'; dlerror: libnvinfer.so.7: cannot open shared object file: No such file or directory\n",
      "2023-01-29 10:55:47.836814: W tensorflow/compiler/xla/stream_executor/platform/default/dso_loader.cc:64] Could not load dynamic library 'libnvinfer_plugin.so.7'; dlerror: libnvinfer_plugin.so.7: cannot open shared object file: No such file or directory\n",
      "2023-01-29 10:55:47.836821: W tensorflow/compiler/tf2tensorrt/utils/py_utils.cc:38] TF-TRT Warning: Cannot dlopen some TensorRT libraries. If you would like to use Nvidia GPU with TensorRT, please make sure the missing libraries mentioned above are installed properly.\n"
     ]
    }
   ],
   "source": [
    "import pandas as pd\n",
    "import numpy as np\n",
    "import matplotlib.pyplot as plt\n",
    "from sklearn.preprocessing import StandardScaler\n",
    "import os\n",
    "from sklearn.model_selection import train_test_split\n",
    "import tensorflow as tf\n",
    "from tensorflow import keras\n",
    "from tensorflow.keras import layers\n",
    "from tensorflow.keras.layers.experimental import preprocessing\n",
    "from keras.models import Sequential\n",
    "from keras.layers import Conv2D, MaxPooling2D, Flatten, Dense\n",
    "import tensorflow as tf\n",
    "import cv2 \n",
    "import os \n",
    "from tqdm import tqdm\n",
    "import pickle\n",
    "from keras.models import Sequential\n",
    "from tqdm import tqdm\n",
    "import urllib.request\n",
    "import requests\n",
    "from PIL import ImageFile"
   ]
  },
  {
   "attachments": {},
   "cell_type": "markdown",
   "metadata": {},
   "source": [
    "## Importando Base de Dados"
   ]
  },
  {
   "cell_type": "code",
   "execution_count": 4,
   "metadata": {},
   "outputs": [],
   "source": [
    "feData = pd.read_csv('data/ifood-restaurants-february-2021.csv')\n",
    "noData = pd.read_csv('data/ifood-restaurants-november-2020.csv')"
   ]
  },
  {
   "attachments": {},
   "cell_type": "markdown",
   "metadata": {},
   "source": [
    "Visualizaçao parcial dos dados "
   ]
  },
  {
   "cell_type": "code",
   "execution_count": 5,
   "metadata": {},
   "outputs": [
    {
     "name": "stdout",
     "output_type": "stream",
     "text": [
      "<class 'pandas.core.frame.DataFrame'>\n",
      "RangeIndex: 406399 entries, 0 to 406398\n",
      "Data columns (total 14 columns):\n",
      " #   Column                  Non-Null Count   Dtype  \n",
      "---  ------                  --------------   -----  \n",
      " 0   availableForScheduling  406399 non-null  bool   \n",
      " 1   avatar                  406122 non-null  object \n",
      " 2   category                406399 non-null  object \n",
      " 3   delivery_fee            406399 non-null  float64\n",
      " 4   delivery_time           406399 non-null  int64  \n",
      " 5   distance                406399 non-null  float64\n",
      " 6   ibge                    406399 non-null  int64  \n",
      " 7   minimumOrderValue       406399 non-null  float64\n",
      " 8   name                    406399 non-null  object \n",
      " 9   paymentCodes            406397 non-null  object \n",
      " 10  price_range             406399 non-null  object \n",
      " 11  rating                  406399 non-null  float64\n",
      " 12  tags                    406399 non-null  object \n",
      " 13  url                     406399 non-null  object \n",
      "dtypes: bool(1), float64(4), int64(2), object(7)\n",
      "memory usage: 40.7+ MB\n"
     ]
    }
   ],
   "source": [
    "feData.info()"
   ]
  },
  {
   "attachments": {},
   "cell_type": "markdown",
   "metadata": {},
   "source": [
    "## Limpando Dados"
   ]
  },
  {
   "attachments": {},
   "cell_type": "markdown",
   "metadata": {},
   "source": [
    "Iremos selecionar apenas os restaurantes que sobreviveram de novembro de 2020 até feveiro de 2021 (não incluiu restaurantes que fecharam antes de novembro de 2020)"
   ]
  },
  {
   "cell_type": "code",
   "execution_count": 6,
   "metadata": {},
   "outputs": [
    {
     "name": "stdout",
     "output_type": "stream",
     "text": [
      "<class 'pandas.core.frame.DataFrame'>\n",
      "Int64Index: 317191 entries, 0 to 406398\n",
      "Data columns (total 14 columns):\n",
      " #   Column                  Non-Null Count   Dtype  \n",
      "---  ------                  --------------   -----  \n",
      " 0   availableForScheduling  317191 non-null  bool   \n",
      " 1   avatar                  316929 non-null  object \n",
      " 2   category                317191 non-null  object \n",
      " 3   delivery_fee            317191 non-null  float64\n",
      " 4   delivery_time           317191 non-null  int64  \n",
      " 5   distance                317191 non-null  float64\n",
      " 6   ibge                    317191 non-null  int64  \n",
      " 7   minimumOrderValue       317191 non-null  float64\n",
      " 8   name                    317191 non-null  object \n",
      " 9   paymentCodes            317191 non-null  object \n",
      " 10  price_range             317191 non-null  object \n",
      " 11  rating                  317191 non-null  float64\n",
      " 12  tags                    317191 non-null  object \n",
      " 13  url                     317191 non-null  object \n",
      "dtypes: bool(1), float64(4), int64(2), object(7)\n",
      "memory usage: 34.2+ MB\n"
     ]
    }
   ],
   "source": [
    "data = feData[feData['url'].isin(noData['url'])]\n",
    "data.info()"
   ]
  },
  {
   "cell_type": "code",
   "execution_count": 7,
   "metadata": {},
   "outputs": [
    {
     "data": {
      "text/plain": [
       "<AxesSubplot: ylabel='Frequency'>"
      ]
     },
     "execution_count": 7,
     "metadata": {},
     "output_type": "execute_result"
    },
    {
     "data": {
      "image/png": "[encoded data removed]",
      "text/plain": [
       "<Figure size 640x480 with 1 Axes>"
      ]
     },
     "metadata": {},
     "output_type": "display_data"
    }
   ],
   "source": [
    "#plot 'rating' distribuition \n",
    "data['rating'].plot.hist(bins=10)"
   ]
  },
  {
   "attachments": {},
   "cell_type": "markdown",
   "metadata": {},
   "source": [
    "Visualizando as notas dos restaurantes selecionados"
   ]
  },
  {
   "attachments": {},
   "cell_type": "markdown",
   "metadata": {},
   "source": [
    "Iremos remover os restaurantes com avaliações iguais a **0** ou **5** para limpar os dados. Tais casos enquadram-se em restaurantes com nenhuma avaliação(nota 0), ou restaurantes com pouquissímas avaliações(nota 5) "
   ]
  },
  {
   "cell_type": "code",
   "execution_count": 8,
   "metadata": {},
   "outputs": [],
   "source": [
    "#removendo restaurantes com rating == 0 \n",
    "data = data[(data['rating'] != 0)&(data['rating'] != 5)]\n",
    "data = data.reset_index(drop=True)"
   ]
  },
  {
   "cell_type": "code",
   "execution_count": 9,
   "metadata": {},
   "outputs": [
    {
     "data": {
      "text/plain": [
       "<AxesSubplot: ylabel='Frequency'>"
      ]
     },
     "execution_count": 9,
     "metadata": {},
     "output_type": "execute_result"
    },
    {
     "data": {
      "image/png": "[encoded data removed]",
      "text/plain": [
       "<Figure size 640x480 with 1 Axes>"
      ]
     },
     "metadata": {},
     "output_type": "display_data"
    }
   ],
   "source": [
    "data['rating'].plot.hist(bins=10)"
   ]
  },
  {
   "attachments": {},
   "cell_type": "markdown",
   "metadata": {},
   "source": [
    "Nova distribuição de Notas após a redução"
   ]
  },
  {
   "cell_type": "code",
   "execution_count": 10,
   "metadata": {},
   "outputs": [
    {
     "data": {
      "text/plain": [
       "<AxesSubplot: >"
      ]
     },
     "execution_count": 10,
     "metadata": {},
     "output_type": "execute_result"
    },
    {
     "data": {
      "image/png": "[encoded data removed]",
      "text/plain": [
       "<Figure size 640x480 with 1 Axes>"
      ]
     },
     "metadata": {},
     "output_type": "display_data"
    }
   ],
   "source": [
    "data['rating_bin'] = pd.cut(data['rating'], np.arange(0.5, 5.2, 0.2))\n",
    "data['rating_bin'].value_counts().plot.bar()"
   ]
  },
  {
   "attachments": {},
   "cell_type": "markdown",
   "metadata": {},
   "source": [
    "Analisando o gráfico, podemos ver que as notas se aproximam, no geral, bastante de 5, por isso, para que possamos analisar as características dos restaurantes mais bem avaliados, podemos divdir o dataset em dois grupos. O grupo elite, com as maiores notas, deve conter os restaurantes com nota maior que 4,5. O grupo não-elite, com as menores notas, deve conter os restaurantes com nota menor que 4,5."
   ]
  },
  {
   "cell_type": "code",
   "execution_count": 11,
   "metadata": {},
   "outputs": [
    {
     "data": {
      "image/png": "[encoded data removed]",
      "text/plain": [
       "<Figure size 640x480 with 1 Axes>"
      ]
     },
     "metadata": {},
     "output_type": "display_data"
    }
   ],
   "source": [
    "# at rating bin, if rating >= 4.5, rating_max = 1, else rating_max = 0\n",
    "data['rating_max'] = data['rating'].apply(lambda x: 1 if x >= 4.5 else 0)\n",
    "\n",
    "\n",
    "# Count the occurrences of each class\n",
    "class_counts = data['rating_max'].value_counts()\n",
    "\n",
    "# Create the bar plot\n",
    "plt.bar(class_counts.index, class_counts.values)\n",
    "\n",
    "plt.xticks(class_counts.index, ['0', '1'])\n",
    "plt.title('Total de Restaurantes por Classe')\n",
    "plt.show()"
   ]
  },
  {
   "cell_type": "code",
   "execution_count": 12,
   "metadata": {},
   "outputs": [],
   "source": [
    "elite = data[data['rating_max'] == 1]\n",
    "not_elite = data[data['rating_max'] == 0]"
   ]
  },
  {
   "cell_type": "code",
   "execution_count": 13,
   "metadata": {},
   "outputs": [
    {
     "data": {
      "image/png": "[encoded data removed]",
      "text/plain": [
       "<Figure size 640x480 with 1 Axes>"
      ]
     },
     "metadata": {},
     "output_type": "display_data"
    }
   ],
   "source": [
    "fig, ax = plt.subplots()\n",
    "(elite['price_range'].value_counts()/elite['price_range'].count()).plot.bar(ax=ax, color='blue', position=0, width=0.25, label='elite')\n",
    "(not_elite['price_range'].value_counts()/not_elite['price_range'].count()).plot.bar(ax=ax, color='red', position=1, width=0.25, label='not_elite')\n",
    "plt.xticks(rotation=20)\n",
    "plt.legend()\n",
    "plt.show()"
   ]
  },
  {
   "attachments": {},
   "cell_type": "markdown",
   "metadata": {},
   "source": [
    "Visualização da presença de restaurantes da elite e da não elite nas diferentes modalidades de custo"
   ]
  },
  {
   "cell_type": "code",
   "execution_count": 14,
   "metadata": {},
   "outputs": [
    {
     "data": {
      "image/png": "[encoded data removed]",
      "text/plain": [
       "<Figure size 1500x500 with 1 Axes>"
      ]
     },
     "metadata": {},
     "output_type": "display_data"
    }
   ],
   "source": [
    "fig, ax = plt.subplots(figsize=(15,5))\n",
    "(elite['category'].value_counts()[elite['category'].value_counts() > 1000]/elite['category'].count()).plot.bar(ax=ax, color='blue', position=0, width=0.25, label='elite')\n",
    "(not_elite['category'].value_counts()[not_elite['category'].value_counts() > 1000]/not_elite['category'].count()).plot.bar(ax=ax, color='red', position=1, width=0.25, label='not_elite')\n",
    "plt.xticks(rotation=20)\n",
    "\n",
    "plt.legend()\n",
    "plt.show()"
   ]
  },
  {
   "attachments": {},
   "cell_type": "markdown",
   "metadata": {},
   "source": [
    "Visualização da presença de restaurantes da elite e da não elite nas diferentes modalidades de categoria"
   ]
  },
  {
   "cell_type": "code",
   "execution_count": 15,
   "metadata": {},
   "outputs": [
    {
     "name": "stdout",
     "output_type": "stream",
     "text": [
      "Tabelando valores médios para as modalidades Elite e Não_Elite:\n",
      "Tempo de entrega:\n",
      "Elite - 44.049\n",
      "Não Elite - 48.441\n",
      "\n",
      "Taxa de entrega:\n",
      "Elite - 7.044\n",
      "Não Elite - 6.463\n",
      "\n",
      "Consumassão mínima:\n",
      "Elite - 15.734\n",
      "Não Elite - 17.434\n",
      "\n"
     ]
    }
   ],
   "source": [
    "print('Tabelando valores médios para as modalidades Elite e Não_Elite:')\n",
    "print('Tempo de entrega:')\n",
    "print(\"Elite - {0:.3f}\".format(elite['delivery_time'].mean()))\n",
    "print(\"Não Elite - {0:.3f}\\n\".format(not_elite['delivery_time'].mean()))\n",
    "print('Taxa de entrega:')\n",
    "print(\"Elite - {0:.3f}\".format(elite['delivery_fee'].mean()))\n",
    "print(\"Não Elite - {0:.3f}\\n\".format(not_elite['delivery_fee'].mean()))\n",
    "print('Consumassão mínima:')\n",
    "print(\"Elite - {0:.3f}\".format(elite['minimumOrderValue'].mean()))\n",
    "print(\"Não Elite - {0:.3f}\\n\".format(not_elite['minimumOrderValue'].mean()))"
   ]
  },
  {
   "attachments": {},
   "cell_type": "markdown",
   "metadata": {},
   "source": [
    "Com essa análise vemos que existe uma diferença, mesmo que pouca, entre os restaurantes da elite e do não elite. Com base nela, iremos tentar construir um modelo para classificação dos restaurantes."
   ]
  },
  {
   "attachments": {},
   "cell_type": "markdown",
   "metadata": {},
   "source": [
    "## Aplicando Rede Neural"
   ]
  },
  {
   "attachments": {},
   "cell_type": "markdown",
   "metadata": {},
   "source": [
    "### Reconstruindo DataFrame para Aplica-lo na Rede"
   ]
  },
  {
   "attachments": {},
   "cell_type": "markdown",
   "metadata": {},
   "source": [
    "A princípio, precisamos reconstruir o DataFrame para valores que irão ser aceitos pela função de construção da rede.\n",
    "\n",
    "*Falar sobre o processo de transformar string em ints e expamsão das colunas*"
   ]
  },
  {
   "cell_type": "code",
   "execution_count": 34,
   "metadata": {},
   "outputs": [],
   "source": [
    "data_ml = pd.get_dummies(data, columns=['category','price_range'], prefix = ['category','price_range'])\n",
    "data_ml['availableForScheduling'] = data['availableForScheduling'].apply(lambda x: 0 if x == 'False' else 1)\n",
    "data_ml['isElite'] = data['rating'].apply(lambda x: 1 if x >= 4.5 else 0)\n",
    "avatares = data_ml['avatar']\n",
    "data_ml = data_ml.drop(['distance','ibge','name','paymentCodes','tags','url','rating','rating_max','rating_bin','avatar'], axis=1)\n",
    "\n",
    "scaler = StandardScaler()\n",
    "data_ml[['delivery_time','delivery_fee','minimumOrderValue']] = scaler.fit_transform(data_ml[['delivery_time','delivery_fee','minimumOrderValue']])"
   ]
  },
  {
   "cell_type": "code",
   "execution_count": 35,
   "metadata": {},
   "outputs": [
    {
     "name": "stdout",
     "output_type": "stream",
     "text": [
      "<class 'pandas.core.frame.DataFrame'>\n",
      "RangeIndex: 136148 entries, 0 to 136147\n",
      "Data columns (total 70 columns):\n",
      " #   Column                      Non-Null Count   Dtype  \n",
      "---  ------                      --------------   -----  \n",
      " 0   availableForScheduling      136148 non-null  int64  \n",
      " 1   delivery_fee                136148 non-null  float64\n",
      " 2   delivery_time               136148 non-null  float64\n",
      " 3   minimumOrderValue           136148 non-null  float64\n",
      " 4   category_Africana           136148 non-null  uint8  \n",
      " 5   category_Alemã              136148 non-null  uint8  \n",
      " 6   category_Argentina          136148 non-null  uint8  \n",
      " 7   category_Asiática           136148 non-null  uint8  \n",
      " 8   category_Açaí               136148 non-null  uint8  \n",
      " 9   category_Baiana             136148 non-null  uint8  \n",
      " 10  category_Bebidas            136148 non-null  uint8  \n",
      " 11  category_Brasileira         136148 non-null  uint8  \n",
      " 12  category_Cafeteria          136148 non-null  uint8  \n",
      " 13  category_Carnes             136148 non-null  uint8  \n",
      " 14  category_Casa de Sucos      136148 non-null  uint8  \n",
      " 15  category_Chinesa            136148 non-null  uint8  \n",
      " 16  category_Colombiana         136148 non-null  uint8  \n",
      " 17  category_Congelados         136148 non-null  uint8  \n",
      " 18  category_Congelados Fit     136148 non-null  uint8  \n",
      " 19  category_Contemporânea      136148 non-null  uint8  \n",
      " 20  category_Conveniência       136148 non-null  uint8  \n",
      " 21  category_Coreana            136148 non-null  uint8  \n",
      " 22  category_Cozinha Rápida     136148 non-null  uint8  \n",
      " 23  category_Crepe              136148 non-null  uint8  \n",
      " 24  category_Doces & Bolos      136148 non-null  uint8  \n",
      " 25  category_Espanhola          136148 non-null  uint8  \n",
      " 26  category_Francesa           136148 non-null  uint8  \n",
      " 27  category_Frangos            136148 non-null  uint8  \n",
      " 28  category_Frutos Do Mar      136148 non-null  uint8  \n",
      " 29  category_Gaúcha             136148 non-null  uint8  \n",
      " 30  category_Grega              136148 non-null  uint8  \n",
      " 31  category_Hambúrguer         136148 non-null  uint8  \n",
      " 32  category_Indiana            136148 non-null  uint8  \n",
      " 33  category_Italiana           136148 non-null  uint8  \n",
      " 34  category_Japonesa           136148 non-null  uint8  \n",
      " 35  category_Lanches            136148 non-null  uint8  \n",
      " 36  category_Marmita            136148 non-null  uint8  \n",
      " 37  category_Marroquina         136148 non-null  uint8  \n",
      " 38  category_Mediterrânea       136148 non-null  uint8  \n",
      " 39  category_Mercado            136148 non-null  uint8  \n",
      " 40  category_Mexicana           136148 non-null  uint8  \n",
      " 41  category_Mineira            136148 non-null  uint8  \n",
      " 42  category_Nordestina         136148 non-null  uint8  \n",
      " 43  category_Padaria            136148 non-null  uint8  \n",
      " 44  category_Panqueca           136148 non-null  uint8  \n",
      " 45  category_Pastel             136148 non-null  uint8  \n",
      " 46  category_Peixes             136148 non-null  uint8  \n",
      " 47  category_Peruana            136148 non-null  uint8  \n",
      " 48  category_Pizza              136148 non-null  uint8  \n",
      " 49  category_Portuguesa         136148 non-null  uint8  \n",
      " 50  category_Presentes          136148 non-null  uint8  \n",
      " 51  category_Salgados           136148 non-null  uint8  \n",
      " 52  category_Saudável           136148 non-null  uint8  \n",
      " 53  category_Sopas & Caldos     136148 non-null  uint8  \n",
      " 54  category_Sorvetes           136148 non-null  uint8  \n",
      " 55  category_Tailandesa         136148 non-null  uint8  \n",
      " 56  category_Tapioca            136148 non-null  uint8  \n",
      " 57  category_Típica do Norte    136148 non-null  uint8  \n",
      " 58  category_Variada            136148 non-null  uint8  \n",
      " 59  category_Vegana             136148 non-null  uint8  \n",
      " 60  category_Vegetariana        136148 non-null  uint8  \n",
      " 61  category_Xis                136148 non-null  uint8  \n",
      " 62  category_Yakisoba           136148 non-null  uint8  \n",
      " 63  category_Árabe              136148 non-null  uint8  \n",
      " 64  price_range_CHEAP           136148 non-null  uint8  \n",
      " 65  price_range_CHEAPEST        136148 non-null  uint8  \n",
      " 66  price_range_EXPENSIVE       136148 non-null  uint8  \n",
      " 67  price_range_MODERATE        136148 non-null  uint8  \n",
      " 68  price_range_MOST_EXPENSIVE  136148 non-null  uint8  \n",
      " 69  isElite                     136148 non-null  int64  \n",
      "dtypes: float64(3), int64(2), uint8(65)\n",
      "memory usage: 13.6 MB\n"
     ]
    }
   ],
   "source": [
    "data_ml.info()"
   ]
  },
  {
   "cell_type": "code",
   "execution_count": 36,
   "metadata": {},
   "outputs": [],
   "source": [
    "#seleciona somente os restaurantes que tem uma imagem correspondente na pasta de imagens \n",
    "files = os.listdir('data/images')\n",
    "files = [int(file.replace('.jpg','')) for file in files]\n",
    "\n",
    "\n",
    "data_ml = data_ml.loc[files]"
   ]
  },
  {
   "attachments": {},
   "cell_type": "markdown",
   "metadata": {},
   "source": [
    "### Construindo Classificador para o DataFrame"
   ]
  },
  {
   "attachments": {},
   "cell_type": "markdown",
   "metadata": {},
   "source": [
    "Dividindo data_ml para treino e teste"
   ]
  },
  {
   "cell_type": "code",
   "execution_count": 24,
   "metadata": {},
   "outputs": [],
   "source": [
    "#train test split\n",
    "X = data_ml.drop(['isElite'], axis=1)\n",
    "y = data_ml['isElite']\n",
    "\n",
    "X_train, X_test, y_train, y_test = train_test_split(X, y, test_size=0.2, random_state=42)"
   ]
  },
  {
   "cell_type": "code",
   "execution_count": 25,
   "metadata": {},
   "outputs": [
    {
     "name": "stderr",
     "output_type": "stream",
     "text": [
      "2023-01-28 23:33:26.567890: W tensorflow/compiler/xla/stream_executor/platform/default/dso_loader.cc:64] Could not load dynamic library 'libcuda.so.1'; dlerror: libcuda.so.1: cannot open shared object file: No such file or directory; LD_LIBRARY_PATH: /home/inpeace/.local/lib/python3.8/site-packages/cv2/../../lib64:\n",
      "2023-01-28 23:33:26.568193: W tensorflow/compiler/xla/stream_executor/cuda/cuda_driver.cc:265] failed call to cuInit: UNKNOWN ERROR (303)\n",
      "2023-01-28 23:33:26.568227: I tensorflow/compiler/xla/stream_executor/cuda/cuda_diagnostics.cc:169] retrieving CUDA diagnostic information for host: Inpeaceapp\n",
      "2023-01-28 23:33:26.568233: I tensorflow/compiler/xla/stream_executor/cuda/cuda_diagnostics.cc:176] hostname: Inpeaceapp\n",
      "2023-01-28 23:33:26.568343: I tensorflow/compiler/xla/stream_executor/cuda/cuda_diagnostics.cc:200] libcuda reported version is: NOT_FOUND: was unable to find libcuda.so DSO loaded into this program\n",
      "2023-01-28 23:33:26.568378: I tensorflow/compiler/xla/stream_executor/cuda/cuda_diagnostics.cc:204] kernel reported version is: 510.108.3\n",
      "2023-01-28 23:33:26.570042: I tensorflow/core/platform/cpu_feature_guard.cc:193] This TensorFlow binary is optimized with oneAPI Deep Neural Network Library (oneDNN) to use the following CPU instructions in performance-critical operations:  AVX2 AVX512F AVX512_VNNI FMA\n",
      "To enable them in other operations, rebuild TensorFlow with the appropriate compiler flags.\n"
     ]
    },
    {
     "name": "stdout",
     "output_type": "stream",
     "text": [
      "Epoch 1/10\n",
      "1668/1668 [==============================] - 2s 749us/step - loss: 0.6515 - accuracy: 0.6084\n",
      "Epoch 2/10\n",
      "1668/1668 [==============================] - 1s 671us/step - loss: 0.6463 - accuracy: 0.6138\n",
      "Epoch 3/10\n",
      "1668/1668 [==============================] - 1s 708us/step - loss: 0.6444 - accuracy: 0.6148\n",
      "Epoch 4/10\n",
      "1668/1668 [==============================] - 1s 702us/step - loss: 0.6432 - accuracy: 0.6163\n",
      "Epoch 5/10\n",
      "1668/1668 [==============================] - 1s 721us/step - loss: 0.6426 - accuracy: 0.6187\n",
      "Epoch 6/10\n",
      "1668/1668 [==============================] - 1s 717us/step - loss: 0.6414 - accuracy: 0.6194\n",
      "Epoch 7/10\n",
      "1668/1668 [==============================] - 1s 734us/step - loss: 0.6400 - accuracy: 0.6195\n",
      "Epoch 8/10\n",
      "1668/1668 [==============================] - 1s 699us/step - loss: 0.6394 - accuracy: 0.6213\n",
      "Epoch 9/10\n",
      "1668/1668 [==============================] - 1s 686us/step - loss: 0.6383 - accuracy: 0.6229\n",
      "Epoch 10/10\n",
      "1668/1668 [==============================] - 1s 700us/step - loss: 0.6377 - accuracy: 0.6228\n"
     ]
    },
    {
     "data": {
      "text/plain": [
       "<keras.callbacks.History at 0x7f29dda21880>"
      ]
     },
     "execution_count": 25,
     "metadata": {},
     "output_type": "execute_result"
    }
   ],
   "source": [
    "#male a tensorflow MLP model to predict if a restaurant is elite or not\n",
    "\n",
    "model = keras.Sequential([\n",
    "    layers.Dense(128, activation='relu', input_shape=[len(X_train.keys())]),\n",
    "    layers.Dense(128, activation='relu'),\n",
    "    layers.Dense(1, activation='sigmoid')\n",
    "])\n",
    "\n",
    "model.compile(optimizer='adam',\n",
    "                loss='binary_crossentropy',\n",
    "                metrics=['accuracy'])\n",
    "\n",
    "model.fit(X_train, y_train, epochs=10)"
   ]
  },
  {
   "cell_type": "code",
   "execution_count": 26,
   "metadata": {},
   "outputs": [
    {
     "name": "stdout",
     "output_type": "stream",
     "text": [
      "417/417 - 0s - loss: 0.6489 - accuracy: 0.6141 - 250ms/epoch - 599us/step\n",
      "\n",
      "Test accuracy: 0.6141100525856018\n"
     ]
    }
   ],
   "source": [
    "#validate model\n",
    "test_loss, test_acc = model.evaluate(X_test, y_test, verbose=2)\n",
    "print('\\nTest accuracy:', test_acc)"
   ]
  },
  {
   "cell_type": "code",
   "execution_count": 43,
   "metadata": {},
   "outputs": [],
   "source": [
    "model.save('saved_models/model_tabular.h5')"
   ]
  },
  {
   "attachments": {},
   "cell_type": "markdown",
   "metadata": {},
   "source": [
    "### Baixando Logos"
   ]
  },
  {
   "cell_type": "code",
   "execution_count": null,
   "metadata": {},
   "outputs": [],
   "source": [
    "# if not os.path.exists('data/images'):\n",
    "#     os.makedirs('data/images')\n",
    "\n",
    "# for i in tqdm(range(0, len(avatares))):\n",
    "#     url = avatares.values[i]\n",
    "#     try: \n",
    "#         response = requests.get(url)\n",
    "#     except:\n",
    "#         continue\n",
    "\n",
    "#     if response.status_code:\n",
    "#         try:\n",
    "#             fp = open(f'data/images/{str(i)}.jpg', 'wb')\n",
    "#             fp.write(response.content)\n",
    "#             fp.close()\n",
    "\n",
    "#             image = Image.open(f'data/images/{str(i)}.jpg')\n",
    "#             image.thumbnail((64,64))\n",
    "#             image.save(f'data/images/{str(i)}.jpg')\n",
    "#         except:\n",
    "#             continue\n",
    "#     else:\n",
    "#         continue"
   ]
  },
  {
   "attachments": {},
   "cell_type": "markdown",
   "metadata": {},
   "source": [
    "### Organizando Imagens em diretórios de treino e test, elite e não elite"
   ]
  },
  {
   "cell_type": "code",
   "execution_count": null,
   "metadata": {},
   "outputs": [],
   "source": [
    "# X_tabular_train = []\n",
    "\n",
    "# X_tabular_test = []\n",
    "# y_tabular_train = []\n",
    "# y_tabular_test = []\n",
    "\n",
    "# ImageFile.LOAD_TRUNCATED_IMAGES = True\n",
    "\n",
    "# def imagetensor(imagedir, X_tabular,y_tabular):\n",
    "#   images = []\n",
    "#   for i, im in tqdm(enumerate(os.listdir(imagedir))):\n",
    "#     try:\n",
    "#         print()\n",
    "#         image= Image.open(imagedir + '/' + im)\n",
    "#         image= image.convert('HSV')\n",
    "#         X_tabular.append(data_ml.loc[int(j.split('.')[0])].drop(['isElite']))\n",
    "#     except:\n",
    "#         continue\n",
    "#     if i == 0:\n",
    "#       images= np.expand_dims(np.array(image, dtype= float)/255, axis= 0)\n",
    "#     else:\n",
    "#       image= np.expand_dims(np.array(image, dtype= float)/255, axis= 0)\n",
    "#       try:\n",
    "#         images= np.append(images, image, axis= 0)\n",
    "#       except:\n",
    "#         continue\n",
    "#   return images, X_tabular, y_tabular\n",
    "\n",
    "# X_train_0,X_tabular_train,y_tabular_train = imagetensor('data/train/0/',X_tabular_train, y_tabular_train)\n",
    "# X_train_1,X_tabular_train,y_tabular_train = imagetensor('data/train/1/',X_tabular_train,y_tabular_train)\n",
    "# X_test_0,X_tabular_test,y_tabular_test = imagetensor('data/test/0/',X_tabular_test,y_tabular_test)\n",
    "# X_test_1,X_tabular_test,y_tabular_test = imagetensor('data/test/1/',X_tabular_test,y_tabular_test)\n",
    "\n",
    "# X_train = np.concatenate((X_train_0, X_train_1), axis=0)\n",
    "# X_test = np.concatenate((X_test_0, X_test_1), axis=0)\n",
    "\n",
    "\n",
    "# pickle.dump(X_train, open('saved_models/X_train_g.pkl','wb'))\n",
    "# pickle.dump(X_test, open('saved_models/X_test_g.pkl','wb'))\n",
    "\n",
    "# pickle.dump(X_tabular_train, open('saved_models/X_tabular_train_g.pkl','wb'))\n",
    "# pickle.dump(y_tabular_train, open('saved_models/y_tabular_train_g.pkl','wb'))\n",
    "# pickle.dump(X_tabular_test, open('saved_models/X_tabular_test_g.pkl','wb'))\n",
    "# pickle.dump(y_tabular_test, open('saved_models/y_tabular_test_g.pkl','wb'))"
   ]
  },
  {
   "attachments": {},
   "cell_type": "markdown",
   "metadata": {},
   "source": [
    "### Importando Imagens para treino e test"
   ]
  },
  {
   "attachments": {},
   "cell_type": "markdown",
   "metadata": {},
   "source": [
    "Testando o generator"
   ]
  },
  {
   "cell_type": "code",
   "execution_count": 28,
   "metadata": {},
   "outputs": [],
   "source": [
    "# !pip install keras\n",
    "# !pip install tensorflow\n",
    "\n",
    "# Define the model\n",
    "model_logo = Sequential()\n",
    "\n",
    "# Add the convolutional layers\n",
    "model_logo.add(Conv2D(32, kernel_size=(3, 3), activation='relu', input_shape=(64, 64, 3)))\n",
    "model_logo.add(MaxPooling2D(pool_size=(2, 2)))\n",
    "model_logo.add(Conv2D(64, kernel_size=(3, 3), activation='relu'))\n",
    "model_logo.add(MaxPooling2D(pool_size=(2, 2)))\n",
    "\n",
    "# Flatten the feature maps and add the fully connected layers\n",
    "model_logo.add(Flatten())\n",
    "model_logo.add(Dense(128, activation='relu'))\n",
    "model_logo.add(Dense(2, activation='softmax'))\n",
    "\n",
    "# Compile the model\n",
    "model_logo.compile(loss='sparse_categorical_crossentropy', optimizer='adam', metrics=['accuracy'])"
   ]
  },
  {
   "cell_type": "code",
   "execution_count": 29,
   "metadata": {},
   "outputs": [
    {
     "name": "stderr",
     "output_type": "stream",
     "text": [
      " 65%|██████▌   | 18920/29005 [00:08<00:04, 2132.91it/s]Premature end of JPEG file\n",
      "100%|██████████| 29005/29005 [00:13<00:00, 2106.53it/s]\n",
      "100%|██████████| 20882/20882 [00:09<00:00, 2120.83it/s]\n",
      "100%|██████████| 9773/9773 [00:04<00:00, 2130.78it/s]\n",
      "100%|██████████| 7030/7030 [00:03<00:00, 2089.41it/s]\n"
     ]
    }
   ],
   "source": [
    "X_train_tabular = []\n",
    "X_test_tabular = []\n",
    "y_train_tabular = []\n",
    "y_test_tabular = []\n",
    "\n",
    "\n",
    "#Xtrain is the data inside train_reduced folder, ytrain is the labels that are the names of the folders the data is in\n",
    "#Xtest is the data inside test_reduced folder, ytest is the labels that are the names of the folders the data is in\n",
    "\n",
    "X_train_logo = []\n",
    "y_train_logo = []\n",
    "#for each image in train_reduced folder, get the label and append it to ytrain\n",
    "for i in os.listdir('data/train'):\n",
    "    for j in tqdm(os.listdir('data/train/'+i)):\n",
    "      \n",
    "        #open the image and append it to Xtrain\n",
    "        img = cv2.imread('data/train/'+i+'/'+j)\n",
    "        if img is not None:\n",
    "            y_train_logo.append(i)\n",
    "            img = cv2.resize(img, (64,64))\n",
    "            X_train_logo.append(img)\n",
    "            X_train_tabular.append(data_ml.loc[int(j.split('.')[0])].drop(['isElite']))\n",
    "            y_train_tabular.append(data_ml.loc[int(j.split('.')[0])]['isElite'])\n",
    "    \n",
    "\n",
    "X_test_logo = []\n",
    "y_test_logo = []\n",
    "\n",
    "\n",
    "#for each image in test_reduced folder, get the label and append it to ytest\n",
    "for i in os.listdir('data/test'):\n",
    "    for j in tqdm(os.listdir('data/test/'+i)):\n",
    "        #open the image and append it to Xtest\n",
    "        img = cv2.imread('data/test/'+i+'/'+j)\n",
    "        if img is not None:\n",
    "            img = cv2.resize(img, (64,64))\n",
    "            y_test_logo.append(i)\n",
    "            X_test_logo.append(img)\n",
    "            X_test_tabular.append(data_ml.loc[int(j.split('.')[0])].drop(['isElite']))\n",
    "            y_test_tabular.append(data_ml.loc[int(j.split('.')[0])]['isElite'])"
   ]
  },
  {
   "cell_type": "code",
   "execution_count": 44,
   "metadata": {},
   "outputs": [],
   "source": [
    "#save the data \n",
    "pickle.dump(X_train_logo, open('pkl_files//X_train_logo.pkl','wb'))\n",
    "pickle.dump(y_train_logo, open('pkl_files//y_train_logo.pkl','wb'))\n",
    "pickle.dump(X_test_logo, open('pkl_files//X_test_logo.pkl','wb'))\n",
    "pickle.dump(y_test_logo, open('pkl_files//y_test_logo.pkl','wb'))\n",
    "\n",
    "pickle.dump(X_train_tabular, open('pkl_files//X_train_tabular.pkl','wb'))\n",
    "pickle.dump(y_train_tabular, open('pkl_files//y_train_tabular.pkl','wb'))\n",
    "pickle.dump(X_test_tabular, open('pkl_files//X_test_tabular.pkl','wb'))\n",
    "pickle.dump(y_test_tabular, open('pkl_files//y_test_tabular.pkl','wb'))"
   ]
  },
  {
   "cell_type": "code",
   "execution_count": 45,
   "metadata": {},
   "outputs": [],
   "source": [
    "#laod data \n",
    "X_train_logo = pickle.load(open('pkl_files//X_train_logo.pkl','rb'))\n",
    "y_train_logo = pickle.load(open('pkl_files//y_train_logo.pkl','rb'))\n",
    "X_test_logo = pickle.load(open('pkl_files//X_test_logo.pkl','rb'))\n",
    "y_test_logo = pickle.load(open('pkl_files//y_test_logo.pkl','rb'))\n",
    "\n",
    "X_train_tabular = pickle.load(open('pkl_files//X_train_tabular.pkl','rb'))\n",
    "y_train_tabular = pickle.load(open('pkl_files//y_train_tabular.pkl','rb'))\n",
    "X_test_tabular = pickle.load(open('pkl_files//X_test_tabular.pkl','rb'))\n",
    "y_test_tabular = pickle.load(open('pkl_files//y_test_tabular.pkl','rb'))"
   ]
  },
  {
   "attachments": {},
   "cell_type": "markdown",
   "metadata": {},
   "source": [
    "### Construindo Classificador para as Logos"
   ]
  },
  {
   "cell_type": "code",
   "execution_count": 38,
   "metadata": {},
   "outputs": [],
   "source": [
    "#convert y_train_logo to float32\n",
    "y_train_logo = np.array(y_train_logo).astype('float32')\n",
    "y_test_logo = np.array(y_test_logo).astype('float32')"
   ]
  },
  {
   "cell_type": "code",
   "execution_count": 39,
   "metadata": {},
   "outputs": [
    {
     "name": "stdout",
     "output_type": "stream",
     "text": [
      "Epoch 1/5\n",
      "1549/1549 [==============================] - 45s 29ms/step - loss: 0.6510 - accuracy: 0.6100\n",
      "Epoch 2/5\n",
      "1549/1549 [==============================] - 45s 29ms/step - loss: 0.6352 - accuracy: 0.6211\n",
      "Epoch 3/5\n",
      "1549/1549 [==============================] - 45s 29ms/step - loss: 0.6197 - accuracy: 0.6330\n",
      "Epoch 4/5\n",
      "1549/1549 [==============================] - 45s 29ms/step - loss: 0.6065 - accuracy: 0.6418\n",
      "Epoch 5/5\n",
      "1549/1549 [==============================] - 46s 29ms/step - loss: 0.5940 - accuracy: 0.6486\n"
     ]
    },
    {
     "data": {
      "text/plain": [
       "<keras.callbacks.History at 0x7f2930d05760>"
      ]
     },
     "execution_count": 39,
     "metadata": {},
     "output_type": "execute_result"
    }
   ],
   "source": [
    "#import sequential\n",
    "# Training the model\n",
    "model_logo.fit(np.array(X_train_logo),y_train_logo,epochs=5)"
   ]
  },
  {
   "cell_type": "code",
   "execution_count": 40,
   "metadata": {},
   "outputs": [
    {
     "name": "stdout",
     "output_type": "stream",
     "text": [
      "521/521 [==============================] - 5s 9ms/step - loss: 0.8527 - accuracy: 0.5666\n"
     ]
    },
    {
     "data": {
      "text/plain": [
       "[0.8526797294616699, 0.5665586590766907]"
      ]
     },
     "execution_count": 40,
     "metadata": {},
     "output_type": "execute_result"
    }
   ],
   "source": [
    "#validate the model\n",
    "model_logo.evaluate(np.array(X_test_logo),y_test_logo)"
   ]
  },
  {
   "cell_type": "code",
   "execution_count": 41,
   "metadata": {},
   "outputs": [],
   "source": [
    "#save model \n",
    "model_logo.save('saved_models/model_logo.h5') "
   ]
  },
  {
   "attachments": {},
   "cell_type": "markdown",
   "metadata": {},
   "source": [
    "### Classificador Global"
   ]
  },
  {
   "cell_type": "code",
   "execution_count": 42,
   "metadata": {},
   "outputs": [],
   "source": [
    "# Assume the two pre-trained models are named \"model_1\" and \"model_2\"\n",
    "# and their input and output tensors are named \"input_1\" and \"output_1\" for model_1,\n",
    "# and \"input_2\" and \"output_2\" for model_2\n",
    "\n",
    "# Create the input tensors for the two models\n",
    "input_1 = tf.keras.layers.Input(shape=(69,))\n",
    "input_2 = tf.keras.layers.Input(shape=(64, 64, 3))\n",
    "\n",
    "# Connect the input tensors to the pre-trained models\n",
    "output_1 = model(input_1)\n",
    "output_2 = model_logo(input_2)\n",
    "\n",
    "# Concatenate the output tensors from the two models\n",
    "concatenated = tf.keras.layers.concatenate([output_1, output_2])\n",
    "\n",
    "#another layer \n",
    "concatenated = tf.keras.layers.Dense(units=32, activation='relu')(concatenated)\n",
    "\n",
    "# Add a fully connected layer to the concatenated output\n",
    "output = tf.keras.layers.Dense(units=2, activation='softmax')(concatenated)\n",
    "\n",
    "# Create a new model with the input and output tensors\n",
    "final_model = tf.keras.models.Model(inputs=[input_1, input_2], outputs=[output])\n",
    "\n",
    "# Compile the final model\n",
    "final_model.compile(loss='sparse_categorical_crossentropy', optimizer='adam', metrics=['accuracy'])"
   ]
  },
  {
   "cell_type": "code",
   "execution_count": 46,
   "metadata": {},
   "outputs": [
    {
     "name": "stdout",
     "output_type": "stream",
     "text": [
      "Epoch 1/5\n",
      "1549/1549 [==============================] - 46s 29ms/step - loss: 0.5945 - accuracy: 0.6618\n",
      "Epoch 2/5\n",
      "1549/1549 [==============================] - 46s 30ms/step - loss: 0.5612 - accuracy: 0.6812\n",
      "Epoch 3/5\n",
      "1549/1549 [==============================] - 48s 31ms/step - loss: 0.5521 - accuracy: 0.6876\n",
      "Epoch 4/5\n",
      "1549/1549 [==============================] - 48s 31ms/step - loss: 0.5433 - accuracy: 0.6945\n",
      "Epoch 5/5\n",
      "1549/1549 [==============================] - 48s 31ms/step - loss: 0.5373 - accuracy: 0.6968\n"
     ]
    },
    {
     "data": {
      "text/plain": [
       "<keras.callbacks.History at 0x7f2994d47250>"
      ]
     },
     "execution_count": 46,
     "metadata": {},
     "output_type": "execute_result"
    }
   ],
   "source": [
    "final_model.fit([np.array(X_train_tabular), np.array(X_train_logo)], y_train_logo, epochs=5, batch_size=32)"
   ]
  },
  {
   "cell_type": "code",
   "execution_count": 47,
   "metadata": {},
   "outputs": [
    {
     "name": "stdout",
     "output_type": "stream",
     "text": [
      "521/521 [==============================] - 5s 10ms/step - loss: 0.7988 - accuracy: 0.5933\n"
     ]
    },
    {
     "data": {
      "text/plain": [
       "[0.7987587451934814, 0.5932661294937134]"
      ]
     },
     "execution_count": 47,
     "metadata": {},
     "output_type": "execute_result"
    }
   ],
   "source": [
    "#validate the model\n",
    "final_model.evaluate([np.array(X_test_tabular), np.array(X_test_logo)], np.array(y_test_logo))"
   ]
  },
  {
   "cell_type": "code",
   "execution_count": 48,
   "metadata": {},
   "outputs": [],
   "source": [
    "#save model \n",
    "final_model.save('saved_models/model_final.h5') "
   ]
  }
 ],
 "metadata": {
  "kernelspec": {
   "display_name": "Python 3",
   "language": "python",
   "name": "python3"
  },
  "language_info": {
   "codemirror_mode": {
    "name": "ipython",
    "version": 3
   },
   "file_extension": ".py",
   "mimetype": "text/x-python",
   "name": "python",
   "nbconvert_exporter": "python",
   "pygments_lexer": "ipython3",
   "version": "3.8.10"
  },
  "orig_nbformat": 4,
  "vscode": {
   "interpreter": {
    "hash": "916dbcbb3f70747c44a77c7bcd40155683ae19c65e1c03b4aa3499c5328201f1"
   }
  }
 },
 "nbformat": 4,
 "nbformat_minor": 2
}
